{
  "nbformat": 4,
  "nbformat_minor": 0,
  "metadata": {
    "colab": {
      "name": "SciPy for Resource Allocation.ipynb",
      "provenance": [],
      "collapsed_sections": []
    },
    "kernelspec": {
      "name": "python3",
      "display_name": "Python 3"
    }
  },
  "cells": [
    {
      "cell_type": "markdown",
      "metadata": {
        "id": "FLiipqqC6Zql"
      },
      "source": [
        "Name: Kajal Panigrahi\r\n",
        "\r\n",
        "Roll no: 22\r\n",
        "\r\n",
        "---\r\n",
        "\r\n"
      ]
    },
    {
      "cell_type": "markdown",
      "metadata": {
        "id": "uz6ZCcq36fSD"
      },
      "source": [
        "Resource Allocation using Simplex Method"
      ]
    },
    {
      "cell_type": "code",
      "metadata": {
        "id": "Y34aAj_9Winb"
      },
      "source": [
        "from scipy.optimize import linprog"
      ],
      "execution_count": 1,
      "outputs": []
    },
    {
      "cell_type": "code",
      "metadata": {
        "id": "5pBEXKufWyFf"
      },
      "source": [
        "obj=[-20,-12,-40,-25]"
      ],
      "execution_count": 2,
      "outputs": []
    },
    {
      "cell_type": "code",
      "metadata": {
        "id": "dKuOdzRxW7Jr"
      },
      "source": [
        "lhs_ineq=[[1,1,1,1],[3,2,1,0],[0,1,2,3]]"
      ],
      "execution_count": 3,
      "outputs": []
    },
    {
      "cell_type": "code",
      "metadata": {
        "id": "v6i_epBpXDtB"
      },
      "source": [
        "rhs_ineq=[50,100,90]"
      ],
      "execution_count": 4,
      "outputs": []
    },
    {
      "cell_type": "code",
      "metadata": {
        "id": "O6hbqe_UXH7q"
      },
      "source": [
        "opt=linprog(c=obj,A_ub=lhs_ineq, b_ub=rhs_ineq,method=\"revised simplex\")"
      ],
      "execution_count": 5,
      "outputs": []
    },
    {
      "cell_type": "code",
      "metadata": {
        "colab": {
          "base_uri": "https://localhost:8080/"
        },
        "id": "hB_XvFk2XKit",
        "outputId": "29dc2a22-e050-454c-c8a9-dc7974835965"
      },
      "source": [
        "opt"
      ],
      "execution_count": 6,
      "outputs": [
        {
          "output_type": "execute_result",
          "data": {
            "text/plain": [
              "     con: array([], dtype=float64)\n",
              "     fun: -1900.0\n",
              " message: 'Optimization terminated successfully.'\n",
              "     nit: 2\n",
              "   slack: array([ 0., 40.,  0.])\n",
              "  status: 0\n",
              " success: True\n",
              "       x: array([ 5.,  0., 45.,  0.])"
            ]
          },
          "metadata": {
            "tags": []
          },
          "execution_count": 6
        }
      ]
    },
    {
      "cell_type": "code",
      "metadata": {
        "id": "iYCjk3ufXQPR"
      },
      "source": [
        ""
      ],
      "execution_count": null,
      "outputs": []
    }
  ]
}